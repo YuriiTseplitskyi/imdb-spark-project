{
 "nbformat": 4,
 "nbformat_minor": 0,
 "metadata": {
  "colab": {
   "provenance": []
  },
  "kernelspec": {
   "name": "python3",
   "display_name": "Python 3"
  },
  "language_info": {
   "name": "python"
  }
 },
 "cells": [
  {
   "metadata": {},
   "cell_type": "code",
   "outputs": [],
   "execution_count": null,
   "source": "from schemas import data_frames"
  },
  {
   "cell_type": "markdown",
   "source": [
    "Which years were the most successful for dramas over 120 minutes with ratings over 8.0?"
   ],
   "metadata": {
    "id": "HXTUKHbNOG2s"
   }
  },
  {
   "cell_type": "code",
   "source": [
    "# Search for dramas sorted by descending rating + grouped by year\n",
    "filtered_dramas = data_frames[\"title_basics\"] \\\n",
    "    .join(data_frames[\"title_ratings\"], \"tconst\") \\\n",
    "    .filter(\n",
    "        (col(\"genres\").contains(\"Drama\")) &\n",
    "        (col(\"runtimeMinutes\") > 120) &\n",
    "        (col(\"averageRating\") > 8.0)\n",
    "    ) \\\n",
    "    .select(\"primaryTitle\", \"startYear\", \"runtimeMinutes\", \"averageRating\", \"genres\")\n",
    "\n",
    "# Grouping by year and calculating the average drama rating\n",
    "grouped_dramas = filtered_dramas.groupBy(\"startYear\") \\\n",
    "    .agg(avg(\"averageRating\").alias(\"avg_rating\")) \\\n",
    "    .orderBy(col(\"avg_rating\").desc())\n",
    "\n",
    "grouped_dramas.show(10, truncate=False)"
   ],
   "metadata": {
    "colab": {
     "base_uri": "https://localhost:8080/"
    },
    "id": "9kNqq765AyNo",
    "outputId": "2ceb32c1-3cbe-452a-85e3-5b53f2f1ff4c"
   },
   "execution_count": 5,
   "outputs": [
    {
     "output_type": "stream",
     "name": "stdout",
     "text": [
      "+---------+-----------------+\n",
      "|startYear|avg_rating       |\n",
      "+---------+-----------------+\n",
      "|NULL     |9.25             |\n",
      "|2015     |8.912766040639674|\n",
      "|1942     |8.899999618530273|\n",
      "|2016     |8.880952444530669|\n",
      "|2023     |8.81970442222257 |\n",
      "|2025     |8.7629629417702  |\n",
      "|2024     |8.724218767136335|\n",
      "|2021     |8.68999998304579 |\n",
      "|2014     |8.687951765864728|\n",
      "|1968     |8.676923164954552|\n",
      "+---------+-----------------+\n",
      "only showing top 10 rows\n",
      "\n"
     ]
    }
   ]
  },
  {
   "cell_type": "markdown",
   "source": [
    "Find actors and actresses who played the main role (category = 'actor'/'actress') in movies with a rating > 9.0"
   ],
   "metadata": {
    "id": "WmupGWOaPNdc"
   }
  },
  {
   "cell_type": "code",
   "source": [
    "high_rated_actors = data_frames[\"title_principals\"] \\\n",
    "    .filter(col(\"category\").isin(\"actor\", \"actress\")) \\\n",
    "    .join(data_frames[\"title_ratings\"], \"tconst\") \\\n",
    "    .filter(col(\"averageRating\") > 9.0) \\\n",
    "    .join(data_frames[\"name_basics\"], \"nconst\") \\\n",
    "    .join(data_frames[\"title_basics\"], \"tconst\") \\\n",
    "    .select(\"primaryName\", \"primaryTitle\", \"category\", \"averageRating\")\n",
    "\n",
    "high_rated_actors.show(10, truncate=False)"
   ],
   "metadata": {
    "colab": {
     "base_uri": "https://localhost:8080/"
    },
    "id": "-BU7_XVNPGmi",
    "outputId": "16292f96-34a2-4de3-a4ef-3a86c5c1ddce"
   },
   "execution_count": null,
   "outputs": [
    {
     "output_type": "stream",
     "name": "stdout",
     "text": [
      "+---------------+------------+--------+-------------+\n",
      "|primaryName    |primaryTitle|category|averageRating|\n",
      "+---------------+------------+--------+-------------+\n",
      "|Frank Faylen   |Bombalera   |actor   |9.2          |\n",
      "|Mikhail Rasumny|Bombalera   |actor   |9.2          |\n",
      "|Muriel Tovar   |Bombalera   |actress |9.2          |\n",
      "|Johnny Johnston|Bombalera   |actor   |9.2          |\n",
      "|Billy Daniel   |Bombalera   |actor   |9.2          |\n",
      "|Chatita Tovar  |Bombalera   |actress |9.2          |\n",
      "|Lollita Tovar  |Bombalera   |actress |9.2          |\n",
      "|Tana Tovar     |Bombalera   |actor   |9.2          |\n",
      "|Olga San Juan  |Bombalera   |actress |9.2          |\n",
      "|Conrad Tovar   |Bombalera   |actor   |9.2          |\n",
      "+---------------+------------+--------+-------------+\n",
      "only showing top 10 rows\n",
      "\n"
     ]
    }
   ]
  },
  {
   "cell_type": "markdown",
   "source": [
    "Медіанна тривалість фільмів за жанром. (group)"
   ],
   "metadata": {
    "id": "cQ4RVe4U9CTx"
   }
  },
  {
   "cell_type": "code",
   "source": [
    "from pyspark.sql.functions import col, split, explode, count, row_number\n",
    "from pyspark.sql.window import Window\n",
    "\n",
    "# Select films with a certain duration\n",
    "movies = data_frames[\"title_basics\"].filter(\n",
    "    (col(\"titleType\") == \"movie\") &\n",
    "    (col(\"runtimeMinutes\").isNotNull()) &\n",
    "    (col(\"genres\").isNotNull())\n",
    ")\n",
    "\n",
    "# Break genres into separate lines\n",
    "movies_exploded = movies.withColumn(\"genre\", explode(split(col(\"genres\"), \",\")))\n",
    "\n",
    "# Creating a window for calculating the median\n",
    "window_spec = Window.partitionBy(\"genre\").orderBy(\"runtimeMinutes\")\n",
    "\n",
    "# Rank movies in each genre\n",
    "ranked_movies = movies_exploded.withColumn(\"row_num\", row_number().over(window_spec))\n",
    "\n",
    "# Find the number of movies in each genre\n",
    "genre_counts = ranked_movies.groupBy(\"genre\").agg(count(\"*\").alias(\"total\"))\n",
    "\n",
    "# Combining to calculate the median\n",
    "movies_with_counts = ranked_movies.join(genre_counts, on=\"genre\")\n",
    "\n",
    "# Select the rows corresponding to the median position\n",
    "median_movies = movies_with_counts.filter(\n",
    "    (col(\"row_num\") == (col(\"total\") / 2).cast(\"int\")) |\n",
    "    (col(\"row_num\") == ((col(\"total\") + 1) / 2).cast(\"int\"))\n",
    ")\n",
    "\n",
    "# Group to find the average of the two central values ​​(if there are two)\n",
    "median_result = median_movies.groupBy(\"genre\").agg(avg(\"runtimeMinutes\").alias(\"median_runtime\"))\n",
    "\n",
    "\n",
    "median_result.orderBy(\"median_runtime\", ascending=False).show(30, truncate=False)"
   ],
   "metadata": {
    "colab": {
     "base_uri": "https://localhost:8080/"
    },
    "id": "1nsXDBci0P4V",
    "outputId": "5d78a8e9-26fd-44e6-e538-12656957f20f"
   },
   "execution_count": null,
   "outputs": [
    {
     "output_type": "stream",
     "name": "stdout",
     "text": [
      "+-----------+--------------+\n",
      "|genre      |median_runtime|\n",
      "+-----------+--------------+\n",
      "|Romance    |95.0          |\n",
      "|Action     |94.0          |\n",
      "|Drama      |93.0          |\n",
      "|Musical    |93.0          |\n",
      "|Thriller   |93.0          |\n",
      "|Mystery    |92.0          |\n",
      "|Crime      |92.0          |\n",
      "|War        |92.0          |\n",
      "|Comedy     |91.0          |\n",
      "|Adventure  |90.0          |\n",
      "|Family     |90.0          |\n",
      "|Fantasy    |90.0          |\n",
      "|History    |90.0          |\n",
      "|Reality-TV |90.0          |\n",
      "|Sci-Fi     |90.0          |\n",
      "|Sport      |90.0          |\n",
      "|Biography  |88.0          |\n",
      "|Horror     |88.0          |\n",
      "|Music      |87.0          |\n",
      "|Film-Noir  |82.0          |\n",
      "|Animation  |81.0          |\n",
      "|\\N         |79.0          |\n",
      "|Adult      |77.0          |\n",
      "|Talk-Show  |76.5          |\n",
      "|News       |75.0          |\n",
      "|Documentary|74.0          |\n",
      "|Western    |70.0          |\n",
      "|Game-Show  |55.0          |\n",
      "+-----------+--------------+\n",
      "\n"
     ]
    }
   ]
  },
  {
   "cell_type": "markdown",
   "source": [
    "Найчастіші 20 пар жанрів за весь час (group)"
   ],
   "metadata": {
    "id": "2Zi_6WeW9GWX"
   }
  },
  {
   "cell_type": "code",
   "source": [
    "# Select films with valid genres\n",
    "two_genres_combinations = data_frames[\"title_basics\"].filter(\n",
    "    (col(\"titleType\") == \"movie\") &\n",
    "    (col(\"genres\").isNotNull()) &\n",
    "    (col(\"genres\") != \"\\\\N\")\n",
    ")\n",
    "\n",
    "# Convert the genre string to an array, sort, merge back into a string\n",
    "two_genres = two_genres_combinations.withColumn(\n",
    "    \"genres_array\", split(col(\"genres\"), \",\")\n",
    ").filter(\n",
    "    size(col(\"genres_array\")) == 2  # тільки комбінації з 2 жанрів\n",
    ").withColumn(\n",
    "    \"sorted_genres\", sort_array(col(\"genres_array\"))\n",
    ").withColumn(\n",
    "    \"genre_combo\", concat_ws(\",\", col(\"sorted_genres\"))\n",
    ")\n",
    "\n",
    "# Group by genre\n",
    "top_two_genre_combinations = two_genres.groupBy(\"genre_combo\") \\\n",
    "    .agg(count(\"*\").alias(\"count\")) \\\n",
    "    .orderBy(col(\"count\").desc())\n",
    "\n",
    "\n",
    "top_two_genre_combinations.show(20, truncate=False)\n"
   ],
   "metadata": {
    "colab": {
     "base_uri": "https://localhost:8080/"
    },
    "id": "pxO5OE-m859b",
    "outputId": "b9b5d3fb-9d5f-4b22-86cb-473c0f713cda"
   },
   "execution_count": null,
   "outputs": [
    {
     "output_type": "stream",
     "name": "stdout",
     "text": [
      "+---------------------+-----+\n",
      "|genre_combo          |count|\n",
      "+---------------------+-----+\n",
      "|Comedy,Drama         |14269|\n",
      "|Drama,Romance        |13820|\n",
      "|Comedy,Romance       |7792 |\n",
      "|Crime,Drama          |6178 |\n",
      "|Drama,Thriller       |5069 |\n",
      "|Action,Drama         |4509 |\n",
      "|Horror,Thriller      |4159 |\n",
      "|Documentary,Music    |3738 |\n",
      "|Biography,Documentary|3582 |\n",
      "|Drama,War            |2816 |\n",
      "|Drama,Family         |2711 |\n",
      "|Comedy,Horror        |2435 |\n",
      "|Documentary,History  |2209 |\n",
      "|Documentary,Drama    |2189 |\n",
      "|Action,Thriller      |2187 |\n",
      "|Action,Comedy        |2086 |\n",
      "|Documentary,Sport    |1890 |\n",
      "|Drama,History        |1827 |\n",
      "|Comedy,Musical       |1701 |\n",
      "|Action,Crime         |1667 |\n",
      "+---------------------+-----+\n",
      "only showing top 20 rows\n",
      "\n"
     ]
    }
   ]
  },
  {
   "cell_type": "markdown",
   "source": [
    "Для кожного режисера — знайти його фільм з найвищим рейтингом серед тих, що мають понад 10,000 голосів"
   ],
   "metadata": {
    "id": "eG6NSYlKPgdI"
   }
  },
  {
   "cell_type": "code",
   "source": [
    "director_movies = data_frames[\"title_basics\"] \\\n",
    "    .join(data_frames[\"title_ratings\"], \"tconst\") \\\n",
    "    .join(data_frames[\"title_crew\"], \"tconst\") \\\n",
    "    .filter(col(\"numVotes\") > 10000) \\\n",
    "    .filter(col(\"directors\").isNotNull()) \\\n",
    "    .select(\"tconst\", \"primaryTitle\", \"averageRating\", \"numVotes\", \"directors\")\n",
    "\n",
    "# Window by director, sorted by rating\n",
    "window_spec = Window.partitionBy(\"directors\").orderBy(col(\"averageRating\").desc())\n",
    "\n",
    "top_director_movies = director_movies \\\n",
    "    .withColumn(\"rank\", rank().over(window_spec)) \\\n",
    "    .filter(col(\"rank\") == 1) \\\n",
    "    .select(\"primaryTitle\", \"averageRating\", \"numVotes\")\n",
    "\n",
    "top_director_movies.show(10, truncate=False)"
   ],
   "metadata": {
    "colab": {
     "base_uri": "https://localhost:8080/"
    },
    "id": "ZhKvTCEHPgxf",
    "outputId": "479442d7-bf94-44f9-922e-5764630c2170"
   },
   "execution_count": null,
   "outputs": [
    {
     "output_type": "stream",
     "name": "stdout",
     "text": [
      "+--------------------------------------------------+-------------+--------+\n",
      "|primaryTitle                                      |averageRating|numVotes|\n",
      "+--------------------------------------------------+-------------+--------+\n",
      "|Red Dead Redemption II                            |9.7          |65156   |\n",
      "|Clash! Shanks vs. Eustass Kid                     |9.7          |26977   |\n",
      "|Kejime o Tsukeru: Shirohige vs Kurohige Kaizokudan|9.7          |49289   |\n",
      "|Scenes from a Marriage                            |8.5          |17557   |\n",
      "|One-Eyed Jacks                                    |7.1          |14193   |\n",
      "|Nights of Cabiria                                 |8.1          |54745   |\n",
      "|Rear Window                                       |8.5          |544069  |\n",
      "|Psycho                                            |8.5          |749457  |\n",
      "|Sherlock Jr.                                      |8.2          |61358   |\n",
      "|Hello, Dolly!                                     |7.0          |17687   |\n",
      "+--------------------------------------------------+-------------+--------+\n",
      "only showing top 10 rows\n",
      "\n"
     ]
    }
   ]
  },
  {
   "cell_type": "markdown",
   "source": [
    "Тренд популярності фільмів по країнам — як змінювався середній рейтинг у США, Франції та Японії по роках"
   ],
   "metadata": {
    "id": "dkkvMCs8cjEa"
   }
  },
  {
   "cell_type": "code",
   "source": [
    "# Combining movies with titles and ratings\n",
    "titles_with_region = data_frames[\"title_akas\"] \\\n",
    "    .filter(col(\"region\").isin(\"US\", \"FR\", \"JP\")) \\\n",
    "    .join(data_frames[\"title_ratings\"], data_frames[\"title_akas\"].titleId == data_frames[\"title_ratings\"].tconst) \\\n",
    "    .join(data_frames[\"title_basics\"], data_frames[\"title_akas\"].titleId == data_frames[\"title_basics\"].tconst) \\\n",
    "    .filter(col(\"startYear\").isNotNull())\n",
    "\n",
    "# Window by country and year — average rating\n",
    "window_spec = Window.partitionBy(\"region\", \"startYear\")\n",
    "\n",
    "avg_rating_by_year_country = titles_with_region \\\n",
    "    .withColumn(\"avg_rating\", avg(\"averageRating\").over(window_spec)) \\\n",
    "    .select(\"region\", \"startYear\", \"primaryTitle\", \"averageRating\", \"avg_rating\") \\\n",
    "    .distinct() \\\n",
    "    .orderBy(\"region\", \"startYear\")\n",
    "\n",
    "avg_rating_by_year_country.show(20, truncate=False)\n"
   ],
   "metadata": {
    "colab": {
     "base_uri": "https://localhost:8080/"
    },
    "id": "lKswO1udcdzU",
    "outputId": "4b71deb8-dfe6-4c41-f671-cd6e17d0e8bc"
   },
   "execution_count": null,
   "outputs": [
    {
     "output_type": "stream",
     "name": "stdout",
     "text": [
      "+------+---------+--------------------+-------------+-----------------+\n",
      "|region|startYear|primaryTitle        |averageRating|avg_rating       |\n",
      "+------+---------+--------------------+-------------+-----------------+\n",
      "|FR    |1874     |Passage de Venus    |6.8          |6.800000190734863|\n",
      "|FR    |1878     |Le singe musicien   |6.1          |5.258064500747189|\n",
      "|FR    |1878     |Dzing. Boom. Boom!  |5.2          |5.258064500747189|\n",
      "|FR    |1878     |L'Aquarium          |5.6          |5.258064500747189|\n",
      "|FR    |1878     |Le Repas des Poulets|5.2          |5.258064500747189|\n",
      "|FR    |1878     |Le Moulin à Eau     |5.2          |5.258064500747189|\n",
      "|FR    |1878     |Le Déjeuner de Bébé |4.9          |5.258064500747189|\n",
      "|FR    |1878     |La Nageuse          |5.1          |5.258064500747189|\n",
      "|FR    |1878     |La Balançoire       |5.3          |5.258064500747189|\n",
      "|FR    |1878     |Les Deux Espiègles  |5.3          |5.258064500747189|\n",
      "|FR    |1878     |Le Jeu de Grâces    |5.2          |5.258064500747189|\n",
      "|FR    |1878     |Les Clowns          |5.2          |5.258064500747189|\n",
      "|FR    |1878     |The Tight-rope Dance|5.5          |5.258064500747189|\n",
      "|FR    |1878     |Les Bulles de Savon |5.5          |5.258064500747189|\n",
      "|FR    |1878     |Le Steeple-Chase    |5.1          |5.258064500747189|\n",
      "|FR    |1878     |Les Chiens Savants  |5.6          |5.258064500747189|\n",
      "|FR    |1878     |Le Rotisseur        |5.2          |5.258064500747189|\n",
      "|FR    |1878     |Les Scieurs de Long |5.1          |5.258064500747189|\n",
      "|FR    |1878     |Les Petits Valseurs |4.9          |5.258064500747189|\n",
      "|FR    |1878     |La Rosace Magique   |5.8          |5.258064500747189|\n",
      "+------+---------+--------------------+-------------+-----------------+\n",
      "only showing top 20 rows\n",
      "\n"
     ]
    }
   ]
  }
 ]
}
