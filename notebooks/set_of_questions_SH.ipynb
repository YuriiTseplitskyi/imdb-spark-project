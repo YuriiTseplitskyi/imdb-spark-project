{
 "nbformat": 4,
 "nbformat_minor": 0,
 "metadata": {
  "colab": {
   "provenance": []
  },
  "kernelspec": {
   "name": "python3",
   "display_name": "Python 3"
  },
  "language_info": {
   "name": "python"
  }
 },
 "cells": [
  {
   "cell_type": "code",
   "source": [
    "from pyspark.sql import functions as F\n",
    "from pyspark.sql.window import Window\n",
    "from pyspark.sql.functions import col, avg, count, sum, explode, split, dense_rank, desc, year, when, max, rank\n",
    "from schemas import data_frames"
   ],
   "metadata": {
    "id": "tVQBMkUiGSFx"
   },
   "execution_count": null,
   "outputs": []
  },
  {
   "cell_type": "markdown",
   "source": [
    "# **Question 1**"
   ],
   "metadata": {
    "id": "JN0SpFYxVIrl"
   }
  },
  {
   "cell_type": "code",
   "source": [
    "#1. Find the highest rated comedy movies released after 2010 with over 10,000 votes\n",
    "\n",
    "top_rated_films = data_frames[\"title_basics\"] \\\n",
    "    .filter(\"titleType = 'movie' AND startYear > 2010 AND genres='Comedy'\") \\\n",
    "    .join(data_frames[\"title_ratings\"], data_frames[\"title_basics\"].tconst == data_frames[\"title_ratings\"].tconst) \\\n",
    "    .filter(\"numVotes > 10000\") \\\n",
    "    .select(\"primaryTitle\", \"startYear\", \"averageRating\", \"numVotes\",\"titleType\") \\\n",
    "    .orderBy(col(\"averageRating\").desc()) \\\n",
    "\n",
    "\n",
    "top_rated_films.show(20)\n",
    "total_records = top_rated_films.count()\n",
    "print(f\"Загальна кількість записів у відповіді: {total_records}\")"
   ],
   "metadata": {
    "colab": {
     "base_uri": "https://localhost:8080/"
    },
    "id": "6B0eX-vHDHLT",
    "outputId": "ef2bd30e-0306-4c6e-aa4e-a1808fce9ba7"
   },
   "execution_count": 3,
   "outputs": [
    {
     "output_type": "stream",
     "name": "stdout",
     "text": [
      "+--------------------+---------+-------------+--------+---------+\n",
      "|        primaryTitle|startYear|averageRating|numVotes|titleType|\n",
      "+--------------------+---------+-------------+--------+---------+\n",
      "|     The Book of Sun|     2020|          7.9|   12006|    movie|\n",
      "|      Between Family|     2017|          7.6|   27388|    movie|\n",
      "| Two Lottery Tickets|     2016|          7.5|   12202|    movie|\n",
      "|   We Are the Nobles|     2013|          7.3|   10996|    movie|\n",
      "|                Bala|     2019|          7.3|   16715|    movie|\n",
      "|           Booksmart|     2019|          7.1|  136032|    movie|\n",
      "|         Çalgi Çengi|     2011|          7.0|   14026|    movie|\n",
      "|         Snack Shack|     2024|          7.0|   12013|    movie|\n",
      "| The Grand Seduction|     2013|          7.0|   20080|    movie|\n",
      "| Serial Bad Weddings|     2014|          7.0|   46797|    movie|\n",
      "|        Theater Camp|     2023|          6.9|   18429|    movie|\n",
      "|                 Ted|     2012|          6.9|  681043|    movie|\n",
      "|Everybody Wants S...|     2016|          6.9|   62303|    movie|\n",
      "|  Suck Me Shakespeer|     2013|          6.9|   33010|    movie|\n",
      "|        Dügün Dernek|     2013|          6.9|   24644|    movie|\n",
      "|             Toc Toc|     2017|          6.8|   22304|    movie|\n",
      "|         Bridesmaids|     2011|          6.8|  316333|    movie|\n",
      "|      Mortal World 2|     2023|          6.8|   10249|    movie|\n",
      "|         Babysitting|     2014|          6.7|   12687|    movie|\n",
      "|           Quiz Lady|     2023|          6.7|   23437|    movie|\n",
      "+--------------------+---------+-------------+--------+---------+\n",
      "only showing top 20 rows\n",
      "\n",
      "Загальна кількість записів у відповіді: 103\n"
     ]
    }
   ]
  },
  {
   "cell_type": "markdown",
   "source": [
    "# **Question 2**"
   ],
   "metadata": {
    "id": "ggzpzDYbVSVE"
   }
  },
  {
   "cell_type": "code",
   "source": [
    "# Actors/actresses with the most American films since 2012\n",
    "\n",
    "top_actors_usa = data_frames[\"title_principals\"] \\\n",
    "    .join(data_frames[\"title_akas\"], data_frames[\"title_principals\"].tconst == data_frames[\"title_akas\"].titleId, \"inner\") \\\n",
    "    .filter(col(\"region\") == \"US\") \\\n",
    "    .join(data_frames[\"name_basics\"], data_frames[\"title_principals\"].nconst == data_frames[\"name_basics\"].nconst, \"inner\") \\\n",
    "    .join(data_frames[\"title_ratings\"], data_frames[\"title_principals\"].tconst == data_frames[\"title_ratings\"].tconst, \"inner\") \\\n",
    "    .join(data_frames[\"title_basics\"], data_frames[\"title_principals\"].tconst == data_frames[\"title_basics\"].tconst, \"inner\") \\\n",
    "    .filter(\n",
    "    (col(\"startYear\") > 2012) &\n",
    "    (col(\"titleType\") == \"movie\") &\n",
    "    ((col(\"category\") == \"actor\") | (col(\"category\") == \"actress\"))\n",
    ")\n",
    "\n",
    "\n",
    "top_actors_usa = top_actors_usa \\\n",
    "    .groupBy(\"primaryName\") \\\n",
    "    .agg(\n",
    "        count(data_frames[\"title_principals\"].tconst).alias(\"film_count\"),  # Кількість фільмів\n",
    "        max(data_frames[\"title_ratings\"].averageRating).alias(\"best_film_rating\")  # Найвищий рейтинг\n",
    "    ) \\\n",
    "    .filter(col(\"film_count\") > 0) \\\n",
    "    .orderBy(desc(\"film_count\"))\n",
    "\n",
    "top_actors_usa.show(20)\n",
    "\n",
    "# Кількість записів\n",
    "total_records = top_actors_usa.count()\n",
    "print(f\"Загальна кількість записів у відповіді: {total_records}\")\n"
   ],
   "metadata": {
    "colab": {
     "base_uri": "https://localhost:8080/"
    },
    "id": "8QOhp_s3KgoG",
    "outputId": "c4d313eb-7543-4439-9e78-057eaa2da1de"
   },
   "execution_count": 4,
   "outputs": [
    {
     "output_type": "stream",
     "name": "stdout",
     "text": [
      "+------------------+----------+----------------+\n",
      "|       primaryName|film_count|best_film_rating|\n",
      "+------------------+----------+----------------+\n",
      "|      Eric Roberts|       327|             8.9|\n",
      "|      Tom Sizemore|       125|             9.0|\n",
      "|       Danny Trejo|       115|             8.8|\n",
      "|   Vennela Kishore|       112|             9.0|\n",
      "|    Michael Madsen|       110|             7.8|\n",
      "|         Yogi Babu|       110|             9.6|\n",
      "|     Ryan Reynolds|       108|             8.0|\n",
      "|      Michael Paré|       101|             8.2|\n",
      "|            Nassar|       101|             8.9|\n",
      "|Scarlett Johansson|       100|             8.4|\n",
      "|      Willem Dafoe|        95|             8.2|\n",
      "|        Kj Schrock|        95|             8.2|\n",
      "|              Ajay|        93|             8.8|\n",
      "|         Dean Cain|        91|             7.4|\n",
      "|        Simon Hill|        90|             7.3|\n",
      "| Tanikella Bharani|        88|             9.1|\n",
      "|   Woody Harrelson|        88|             8.1|\n",
      "| Samuel L. Jackson|        88|             7.9|\n",
      "|       Prakash Raj|        86|             8.7|\n",
      "|      J.K. Simmons|        85|             8.5|\n",
      "+------------------+----------+----------------+\n",
      "only showing top 20 rows\n",
      "\n",
      "Загальна кількість записів у відповіді: 292511\n"
     ]
    }
   ]
  },
  {
   "cell_type": "markdown",
   "source": [
    "# **Question 3**"
   ],
   "metadata": {
    "id": "rx86XbuHVroq"
   }
  },
  {
   "cell_type": "code",
   "source": [
    "#Cumulative number of films by year, genre and country\n",
    "movies_by_year_genre_country = data_frames[\"title_basics\"] \\\n",
    "    .filter(\"titleType = 'movie' AND startYear IS NOT NULL\") \\\n",
    "    .join(data_frames[\"title_akas\"], data_frames[\"title_basics\"][\"tconst\"] == data_frames[\"title_akas\"][\"titleId\"]) \\\n",
    "    .groupBy(\"startYear\", \"genres\", \"region\") \\\n",
    "    .agg(F.countDistinct(\"tconst\").alias(\"num_movies\"))\n",
    "\n",
    "window_spec = Window.partitionBy(\"region\", \"genres\") \\\n",
    "    .orderBy(\"startYear\") \\\n",
    "    .rowsBetween(Window.unboundedPreceding, 0)\n",
    "\n",
    "movies_by_year_genre_country = movies_by_year_genre_country \\\n",
    "    .withColumn(\"cumulative_total\", F.sum(\"num_movies\").over(window_spec)) \\\n",
    "    .orderBy(\"region\", \"genres\", \"startYear\")\n",
    "\n",
    "movies_by_year_genre_country.show(20)\n",
    "total_records = movies_by_year_genre_country.count()\n",
    "print(f\"Загальна кількість записів у відповіді: {total_records}\")\n"
   ],
   "metadata": {
    "colab": {
     "base_uri": "https://localhost:8080/"
    },
    "id": "f4sTo8BcRg5V",
    "outputId": "a11b840e-c646-46a7-a74e-cfe8695a7797"
   },
   "execution_count": 23,
   "outputs": [
    {
     "output_type": "stream",
     "name": "stdout",
     "text": [
      "+---------+-------------------+------+----------+----------------+\n",
      "|startYear|             genres|region|num_movies|cumulative_total|\n",
      "+---------+-------------------+------+----------+----------------+\n",
      "|     1975|              Adult|    AD|         1|               1|\n",
      "|     2016|Crime,Drama,Mystery|    AD|         1|               1|\n",
      "|     2016|        Documentary|    AD|         1|               1|\n",
      "|     2020|        Documentary|    AD|         1|               2|\n",
      "|     2021|        Documentary|    AD|         1|               3|\n",
      "|     2022|        Documentary|    AD|         1|               4|\n",
      "|     2023|        Documentary|    AD|         1|               5|\n",
      "|     2021|    Documentary,War|    AD|         1|               1|\n",
      "|     2016|              Drama|    AD|         1|               1|\n",
      "|     1996|                 \\N|    AD|         1|               1|\n",
      "|     1986|             Action|    AE|         1|               1|\n",
      "|     2001|             Action|    AE|         1|               2|\n",
      "|     2008|             Action|    AE|         1|               3|\n",
      "|     2012|             Action|    AE|         1|               4|\n",
      "|     2013|             Action|    AE|         1|               5|\n",
      "|     2014|             Action|    AE|         1|               6|\n",
      "|     2015|             Action|    AE|         1|               7|\n",
      "|     2016|             Action|    AE|         1|               8|\n",
      "|     2017|             Action|    AE|         3|              11|\n",
      "|     2018|             Action|    AE|         4|              15|\n",
      "+---------+-------------------+------+----------+----------------+\n",
      "only showing top 20 rows\n",
      "\n",
      "Загальна кількість записів у відповіді: 612211\n"
     ]
    }
   ]
  },
  {
   "cell_type": "markdown",
   "source": [
    "# **Question 4**"
   ],
   "metadata": {
    "id": "bBp6fy6Ad_Cb"
   }
  },
  {
   "cell_type": "code",
   "source": [
    "\n",
    "\n",
    "# Top 5 highest-rated films in each genre\n",
    "\n",
    "window_spec = Window.partitionBy(\"genres\").orderBy(desc(\"averageRating\"))\n",
    "\n",
    "ranked_films = data_frames[\"title_basics\"] \\\n",
    "    .join(data_frames[\"title_ratings\"], data_frames[\"title_basics\"].tconst == data_frames[\"title_ratings\"].tconst, \"inner\") \\\n",
    "    .filter(\"titleType = 'movie' AND numVotes > 10000\") \\\n",
    "    .withColumn(\"rank\", rank().over(window_spec)) \\\n",
    "    .select(\"primaryTitle\", \"genres\", \"averageRating\", \"rank\") \\\n",
    "    .filter(col(\"rank\") <= 5)  # Топ-5 фільмів за рейтингом у кожному жанрі\n",
    "\n",
    "ranked_films.show(20)\n",
    "total_records = ranked_films.count()\n",
    "print(f\"Загальна кількість записів у відповіді: {total_records}\")\n"
   ],
   "metadata": {
    "colab": {
     "base_uri": "https://localhost:8080/"
    },
    "id": "jY1o0w5UdtVq",
    "outputId": "0bafc9a4-1111-483b-d3ab-e284b2074e51"
   },
   "execution_count": 15,
   "outputs": [
    {
     "output_type": "stream",
     "name": "stdout",
     "text": [
      "+--------------------+--------------------+-------------+----+\n",
      "|        primaryTitle|              genres|averageRating|rank|\n",
      "+--------------------+--------------------+-------------+----+\n",
      "|Once Upon a Time ...|              Action|          7.2|   1|\n",
      "|   War of the Arrows|              Action|          7.1|   2|\n",
      "|           Ong Bak 2|              Action|          6.2|   3|\n",
      "|          Velayudham|              Action|          6.1|   4|\n",
      "|            Bairavaa|              Action|          5.8|   5|\n",
      "|Raiders of the Lo...|    Action,Adventure|          8.4|   1|\n",
      "|Indiana Jones and...|    Action,Adventure|          8.2|   2|\n",
      "|Indiana Jones and...|    Action,Adventure|          7.5|   3|\n",
      "|              Batman|    Action,Adventure|          7.5|   3|\n",
      "|     Shogun Assassin|    Action,Adventure|          7.3|   5|\n",
      "|Attack on Titan t...|Action,Adventure,...|          9.2|   1|\n",
      "|Ramayana: The Leg...|Action,Adventure,...|          9.1|   2|\n",
      "|Solo Leveling: Re...|Action,Adventure,...|          8.9|   3|\n",
      "|Spider-Man: Acros...|Action,Adventure,...|          8.5|   4|\n",
      "|Attack on Titan: ...|Action,Adventure,...|          8.4|   5|\n",
      "|Spider-Man: Into ...|Action,Adventure,...|          8.4|   5|\n",
      "|         The Message|Action,Adventure,...|          8.9|   1|\n",
      "|Aguirre, the Wrat...|Action,Adventure,...|          7.8|   2|\n",
      "|Once Upon a Time ...|Action,Adventure,...|          7.3|   3|\n",
      "|In the Heart of t...|Action,Adventure,...|          6.9|   4|\n",
      "+--------------------+--------------------+-------------+----+\n",
      "only showing top 20 rows\n",
      "\n",
      "Загальна кількість записів у відповіді: 1752\n"
     ]
    }
   ]
  },
  {
   "cell_type": "markdown",
   "source": [
    "# **Question 5**"
   ],
   "metadata": {
    "id": "zi08Vj-IjjyC"
   }
  },
  {
   "cell_type": "code",
   "source": [
    "\n",
    "\n",
    "# Find the top 3 lowest rated movies in each country with > 50,000 votes\n",
    "window_spec = Window.partitionBy(\"region\").orderBy(\"min_rating\")\n",
    "\n",
    "top_films_by_country = data_frames[\"title_akas\"] \\\n",
    "    .join(data_frames[\"title_ratings\"], data_frames[\"title_akas\"].titleId == data_frames[\"title_ratings\"].tconst, \"inner\") \\\n",
    "    .filter(\"region IS NOT NULL AND numVotes > 50000\") \\\n",
    "    .join(data_frames[\"title_basics\"], data_frames[\"title_akas\"].titleId == data_frames[\"title_basics\"].tconst, \"inner\") \\\n",
    "    .groupBy(\"region\", \"title\", \"genres\") \\\n",
    "    .agg(F.min(\"averageRating\").alias(\"min_rating\")) \\\n",
    "    .withColumn(\"row_number\", F.row_number().over(window_spec)) \\\n",
    "    .filter(F.col(\"row_number\") <= 3)\n",
    "\n",
    "top_films_by_country.show(20)\n",
    "total_records = top_films_by_country.count()\n",
    "print(f\"Загальна кількість записів у відповіді: {total_records}\")\n"
   ],
   "metadata": {
    "colab": {
     "base_uri": "https://localhost:8080/"
    },
    "id": "P9x1LYSPiK_Q",
    "outputId": "f3cdd600-4d62-45af-aba4-c2b2f4bf9ce9"
   },
   "execution_count": 17,
   "outputs": [
    {
     "output_type": "stream",
     "name": "stdout",
     "text": [
      "+------+--------------------+--------------------+----------+----------+\n",
      "|region|               title|              genres|min_rating|row_number|\n",
      "+------+--------------------+--------------------+----------+----------+\n",
      "|    AE|             Sadak 2|        Action,Drama|       1.2|         1|\n",
      "|    AE|               Radhe|     Action,Thriller|       1.8|         2|\n",
      "|    AE|      Disaster Movie|       Comedy,Sci-Fi|       1.9|         3|\n",
      "|    AF|        Czarna lista| Crime,Drama,Mystery|       7.9|         1|\n",
      "|    AL|Pesëdhjetë hijet ...|Drama,Romance,Thr...|       4.2|         1|\n",
      "|    AL| Legjenda e Herkulit|Action,Adventure,...|       4.3|         2|\n",
      "|    AL|Pesëdhjetë hije t...|Drama,Mystery,Rom...|       4.5|         3|\n",
      "|    AM|Hing gisher Fredi...|Horror,Mystery,Th...|       5.4|         1|\n",
      "|    AM|         vat'sunhing|Action,Adventure,...|       5.4|         2|\n",
      "|    AM|   Asasini davananqe|Action,Adventure,...|       5.6|         3|\n",
      "|    AR|  La reina Cleopatra|Documentary,Drama...|       1.2|         1|\n",
      "|    AR|       Blanca Nieves|Adventure,Family,...|       1.6|         2|\n",
      "|    AR|               Velma|Adventure,Animati...|       1.6|         3|\n",
      "|    AT|      Schneewittchen|Adventure,Family,...|       1.6|         1|\n",
      "|    AT|Liebe mit Risiko ...|Comedy,Crime,Romance|       2.6|         2|\n",
      "|    AT|           Adipurush|        Action,Drama|       2.7|         3|\n",
      "|    AU|             Sadak 2|        Action,Drama|       1.2|         1|\n",
      "|    AU|     Queen Cleopatra|Documentary,Drama...|       1.2|         2|\n",
      "|    AU|          Snow White|Adventure,Family,...|       1.6|         3|\n",
      "|    AW|        Alma salvaje|Adventure,Biograp...|       7.1|         1|\n",
      "+------+--------------------+--------------------+----------+----------+\n",
      "only showing top 20 rows\n",
      "\n",
      "Загальна кількість записів у відповіді: 381\n"
     ]
    }
   ]
  },
  {
   "cell_type": "markdown",
   "source": [
    "# **Question 6**"
   ],
   "metadata": {
    "id": "TStBwy8IpSBK"
   }
  },
  {
   "cell_type": "code",
   "source": [
    "\n",
    "\n",
    "# Find the top directors by the number of films in the \"Action\" genre with the highest rating\n",
    "top_action_directors = data_frames[\"title_crew\"] \\\n",
    "    .join(data_frames[\"title_ratings\"], data_frames[\"title_crew\"].tconst == data_frames[\"title_ratings\"].tconst, \"inner\") \\\n",
    "    .join(data_frames[\"title_basics\"], data_frames[\"title_crew\"].tconst == data_frames[\"title_basics\"].tconst, \"inner\") \\\n",
    "    .join(data_frames[\"name_basics\"], data_frames[\"title_crew\"].directors == data_frames[\"name_basics\"].nconst, \"inner\") \\\n",
    "    .filter(\"directors IS NOT NULL AND genres LIKE '%Action%'\") \\\n",
    "    .groupBy(\"primaryName\") \\\n",
    "    .agg(\n",
    "        F.count(data_frames[\"title_crew\"].tconst).alias(\"num_movies\"),\n",
    "        F.max(data_frames[\"title_ratings\"].averageRating).alias(\"max_film_rating\")\n",
    "    ) \\\n",
    "    .orderBy(F.desc(\"num_movies\")) \\\n",
    "\n",
    "\n",
    "top_action_directors.show(20)\n",
    "total_records = top_action_directors.count()\n",
    "print(f\"Загальна кількість записів у відповіді: {total_records}\")\n"
   ],
   "metadata": {
    "colab": {
     "base_uri": "https://localhost:8080/"
    },
    "id": "H1iwzQKCoS7l",
    "outputId": "1ecf9ced-d8c6-4c96-ca87-3b577f9e3992"
   },
   "execution_count": 3,
   "outputs": [
    {
     "output_type": "stream",
     "name": "stdout",
     "text": [
      "+--------------------+----------+---------------+\n",
      "|         primaryName|num_movies|max_film_rating|\n",
      "+--------------------+----------+---------------+\n",
      "|   Luke Lerdwichagul|       789|            9.6|\n",
      "| Yasuichirô Yamamoto|       482|            9.2|\n",
      "|      Daisuke Nishio|       469|            9.4|\n",
      "|          Kevin Dunn|       372|            9.1|\n",
      "|Paulo Viníccius S...|       311|           10.0|\n",
      "|         Hayato Date|       297|            9.6|\n",
      "|      Iginio Straffi|       241|            9.4|\n",
      "|         James Rolfe|       238|            9.1|\n",
      "|            Onur Tan|       234|            9.7|\n",
      "|     Kôichi Sakamoto|       220|            9.6|\n",
      "|            Dan Riba|       215|            9.7|\n",
      "|        Ryuta Tasaki|       200|            9.7|\n",
      "|      Takashi Watabe|       188|            8.9|\n",
      "|       Hatsuki Tsuji|       185|            9.1|\n",
      "|         Masato Satô|       173|            9.6|\n",
      "|  James Whitmore Jr.|       172|            9.1|\n",
      "|       Ben B. Singer|       169|            9.6|\n",
      "|        Kenji Kodama|       167|            8.9|\n",
      "|     Terrence O'Hara|       163|            9.2|\n",
      "|       Hirohito Ochi|       163|            9.0|\n",
      "+--------------------+----------+---------------+\n",
      "only showing top 20 rows\n",
      "\n",
      "Загальна кількість записів у відповіді: 29456\n"
     ]
    }
   ]
  },
  {
   "cell_type": "code",
   "source": [
    "\n",
    "top_rated_films.write.option(\"header\", \"true\").csv(\"/content/top_rated_films.csv\")\n",
    "\n",
    "top_actors_usa.write.option(\"header\", \"true\").csv(\"/content/top_actors_usa.csv\")\n",
    "\n",
    "movies_by_year_genre_country.write.option(\"header\", \"true\").csv(\"/content/movies_by_year_genre_country.csv\")\n",
    "\n",
    "ranked_films.write.option(\"header\", \"true\").csv(\"/content/ranked_films.csv\")\n",
    "\n",
    "top_films_by_country.write.option(\"header\", \"true\").csv(\"/content/top_films_by_country.csv\")\n",
    "\n",
    "top_action_directors.write.option(\"header\", \"true\").csv(\"/content/top_action_directors.csv\")"
   ],
   "metadata": {
    "id": "nP0GxtxEsErv"
   },
   "execution_count": null,
   "outputs": []
  }
 ]
}
