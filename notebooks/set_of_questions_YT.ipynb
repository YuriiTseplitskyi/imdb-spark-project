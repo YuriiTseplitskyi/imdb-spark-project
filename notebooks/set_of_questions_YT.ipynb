{
  "cells": [
    {
      "cell_type": "markdown",
      "metadata": {
        "id": "IYmRh2_2Dojq"
      },
      "source": [
        "# Imports"
      ]
    },
    {
      "cell_type": "code",
      "execution_count": 10,
      "metadata": {
        "id": "Ly0yrWsEDn_P"
      },
      "outputs": [],
      "source": [
        "from pyspark.sql import functions as F\n",
        "from pyspark.sql.window import Window\n",
        "from schemas import data_frames"
      ]
    },
    {
      "cell_type": "markdown",
      "metadata": {
        "id": "LvdILQ4JA2X8"
      },
      "source": [
        "# Question 1\n"
      ]
    },
    {
      "cell_type": "markdown",
      "metadata": {
        "id": "uAXZkGYPCB8_"
      },
      "source": [
        "> The most successful actor-director collaborations based on average ratings"
      ]
    },
    {
      "cell_type": "code",
      "execution_count": 3,
      "metadata": {
        "colab": {
          "base_uri": "https://localhost:8080/"
        },
        "id": "wdUou2jVA-Ih",
        "outputId": "c6097154-7e6b-4076-b653-002b42edb26f"
      },
      "outputs": [
        {
          "name": "stdout",
          "output_type": "stream",
          "text": [
            "+--------------------+-------------------+---------+----------+\n",
            "|               actor|           director|avgRating|movieCount|\n",
            "+--------------------+-------------------+---------+----------+\n",
            "|         Adam Keller|      Elena Kritter|     10.0|         1|\n",
            "|       Adrian Maeers|         Joe Martin|     10.0|         1|\n",
            "|       Adam Chisnall|      Sam Delfavero|     10.0|         1|\n",
            "|           Alec Zais|   Darius Ratchford|     10.0|         1|\n",
            "|         Ajay Sharma|        Irfan Shekh|     10.0|         1|\n",
            "|        Adrian Quinn|      Shannon Crome|     10.0|         1|\n",
            "|        Aaron Joshua|     David Anderson|     10.0|         2|\n",
            "|    Aaliyah Sullivan|    Lauren Anderson|     10.0|         1|\n",
            "|       Aaron Maguire|      Christian Kim|     10.0|         1|\n",
            "|Adrianna 'Caz' Br...|      Katie O'Grady|     10.0|         1|\n",
            "|      Adam Norlander|    Arvid Magnusson|     10.0|         1|\n",
            "|        Aaron Isaacs|    Kristina Harris|     10.0|         1|\n",
            "|      Aaron Peterson|         Blake Bard|     10.0|         1|\n",
            "|      Adrien Béchade|         Bob Spjuth|     10.0|         1|\n",
            "|            Adam Ohl|         Alex Stamm|     10.0|         1|\n",
            "|         Abdon Braga|     Cássio Lignani|     10.0|         1|\n",
            "|      Abdullah Asiri|      Hamzah Tarzan|     10.0|         1|\n",
            "|Aldrin Templo Bas...|     Mirari Baltero|     10.0|         1|\n",
            "| Adam Vincent Wright|Adam Vincent Wright|     10.0|         1|\n",
            "|       Abdul Wahid.S|     R.S. Kanimuthu|     10.0|         1|\n",
            "+--------------------+-------------------+---------+----------+\n",
            "\n",
            "Total records: 2888892\n"
          ]
        }
      ],
      "source": [
        "actor_director_collab = (\n",
        "    data_frames[\"title_principals\"]\n",
        "    .join(\n",
        "        data_frames[\"title_crew\"],\n",
        "        data_frames[\"title_principals\"].tconst == data_frames[\"title_crew\"].tconst\n",
        "    )\n",
        "    .join(\n",
        "        data_frames[\"title_ratings\"],\n",
        "        data_frames[\"title_principals\"].tconst == data_frames[\"title_ratings\"].tconst\n",
        "    )\n",
        "    .join(\n",
        "        data_frames[\"name_basics\"].alias(\"actors\"),\n",
        "        data_frames[\"title_principals\"].nconst == F.col(\"actors.nconst\")\n",
        "    )\n",
        "    .join(\n",
        "        data_frames[\"name_basics\"].alias(\"directors\"),\n",
        "        data_frames[\"title_crew\"].directors == F.col(\"directors.nconst\")\n",
        "    )\n",
        "    .filter(\"category = 'actor'\")\n",
        "    .groupBy(\"actors.primaryName\", \"directors.primaryName\")\n",
        "    .agg(\n",
        "        F.avg(\"averageRating\").alias(\"avgRating\"),\n",
        "        F.count(data_frames[\"title_principals\"].tconst).alias(\"movieCount\")\n",
        "    )\n",
        "    .orderBy(F.desc(\"avgRating\"))\n",
        "    .select(\n",
        "        F.col(\"actors.primaryName\").alias(\"actor\"),\n",
        "        F.col(\"directors.primaryName\").alias(\"director\"),\n",
        "        \"avgRating\",\n",
        "        \"movieCount\"\n",
        "    )\n",
        ")\n",
        "\n",
        "actor_director_collab.limit(20).show()\n",
        "\n",
        "total_records = actor_director_collab.count()\n",
        "print(f\"Total records: {total_records}\")"
      ]
    },
    {
      "cell_type": "markdown",
      "metadata": {
        "id": "NMMRz9u7BH51"
      },
      "source": [
        "# Question 2"
      ]
    },
    {
      "cell_type": "markdown",
      "metadata": {
        "id": "BcHaUDwdCOib"
      },
      "source": [
        "> Average runtime of movies by previous decade and genre"
      ]
    },
    {
      "cell_type": "code",
      "execution_count": 4,
      "metadata": {
        "colab": {
          "base_uri": "https://localhost:8080/"
        },
        "id": "ux6FADFXBHoY",
        "outputId": "54fae7a5-4b3a-4510-ed69-20da0c4ebb29"
      },
      "outputs": [
        {
          "name": "stdout",
          "output_type": "stream",
          "text": [
            "+------+-----------+------------------+----+\n",
            "|decade|      genre|        avgRuntime|rank|\n",
            "+------+-----------+------------------+----+\n",
            "|  2020|     Action|57.063425063041336|   1|\n",
            "|  2020|     Sci-Fi| 45.30483271375465|   1|\n",
            "|  2020|      Adult|111.11711711711712|   1|\n",
            "|  2020|  Adventure|55.345279486493716|   1|\n",
            "|  2020|  Animation| 23.32125874125874|   1|\n",
            "|  2020|  Biography| 71.15062862669245|   1|\n",
            "|  2020|     Comedy| 52.27763157894737|   1|\n",
            "|  2020|      Crime| 59.88291307991163|   1|\n",
            "|  2020|Documentary| 66.65007818967896|   1|\n",
            "|  2020|      Drama| 63.38263827642686|   1|\n",
            "|  2020|     Family| 72.58669833729216|   1|\n",
            "|  2020|    Fantasy| 49.90248390064397|   1|\n",
            "|  2020|  Game-Show| 56.57914292791677|   1|\n",
            "|  2020|    History|54.423857868020306|   1|\n",
            "|  2020|     Horror|58.743200150065654|   1|\n",
            "|  2020|      Music| 66.68802902055623|   1|\n",
            "|  2020|    Musical| 75.06481481481481|   1|\n",
            "|  2020|    Mystery| 62.05336426914153|   1|\n",
            "|  2020|       News| 59.08650519031142|   1|\n",
            "|  2020| Reality-TV|49.407440212577505|   1|\n",
            "+------+-----------+------------------+----+\n",
            "only showing top 20 rows\n",
            "\n",
            "Total records: 369\n"
          ]
        }
      ],
      "source": [
        "data_frames[\"title_basics\"] = data_frames[\"title_basics\"].withColumn(\n",
        "    \"decade\",\n",
        "    (F.floor(F.col(\"startYear\") / 10) * 10).cast(\"integer\")\n",
        ")\n",
        "\n",
        "window_spec = Window.partitionBy(\"decade\", \"genre\").orderBy(F.desc(\"avgRuntime\"))\n",
        "\n",
        "runtime_by_decade_genre = (\n",
        "    data_frames[\"title_basics\"]\n",
        "    .join(data_frames[\"title_ratings\"], \"tconst\")\n",
        "    .withColumn(\"genre\", F.split(F.col(\"genres\"), \",\")[0])\n",
        "    .filter(F.col(\"runtimeMinutes\").isNotNull())\n",
        "    .filter(F.col(\"genres\").isNotNull())\n",
        "    .filter(F.col(\"decade\").isNotNull())\n",
        "    .groupBy(\"decade\", \"genre\")\n",
        "    .agg(F.avg(\"runtimeMinutes\").alias(\"avgRuntime\"))\n",
        ")\n",
        "\n",
        "ranked_runtime = runtime_by_decade_genre.withColumn(\"rank\", F.row_number().over(window_spec))\n",
        "ranked_runtime_filtered = ranked_runtime.filter(F.col(\"rank\") <= 20)\n",
        "\n",
        "ranked_runtime_filtered = ranked_runtime_filtered.orderBy(F.desc(\"decade\"))\n",
        "ranked_runtime_filtered.show()\n",
        "\n",
        "total_records = ranked_runtime_filtered.count()\n",
        "print(f\"Total records: {total_records}\")"
      ]
    },
    {
      "cell_type": "markdown",
      "metadata": {
        "id": "1SQm-SnGBKEu"
      },
      "source": [
        "# Question 3"
      ]
    },
    {
      "cell_type": "markdown",
      "metadata": {
        "id": "LCawua9NCcTg"
      },
      "source": [
        "> Which countries produce the most internationally recognized films (films with titles in multiple languages)"
      ]
    },
    {
      "cell_type": "code",
      "execution_count": 5,
      "metadata": {
        "colab": {
          "base_uri": "https://localhost:8080/"
        },
        "id": "JPxLvWy0BMa-",
        "outputId": "37d728eb-206d-4820-dd2e-eb4bfe3de789"
      },
      "outputs": [
        {
          "name": "stdout",
          "output_type": "stream",
          "text": [
            "+------+---------+\n",
            "|region|filmCount|\n",
            "+------+---------+\n",
            "|    CA|    42821|\n",
            "|    IN|    33185|\n",
            "|    JP|    25096|\n",
            "|    US|    12719|\n",
            "|    FI|     9099|\n",
            "|    HK|     7506|\n",
            "|    ES|     7399|\n",
            "|    BE|     6553|\n",
            "|    AU|     2267|\n",
            "|    CN|     1966|\n",
            "|    PH|     1679|\n",
            "|  SUHH|     1646|\n",
            "|   XWW|     1398|\n",
            "|    GB|     1364|\n",
            "|    IR|     1169|\n",
            "|    TR|     1121|\n",
            "|   XYU|     1030|\n",
            "|    KZ|     1018|\n",
            "|    CH|      994|\n",
            "|    IL|      822|\n",
            "+------+---------+\n",
            "\n",
            "Total records: 86\n"
          ]
        }
      ],
      "source": [
        "multi_language_films = (\n",
        "    data_frames[\"title_akas\"]\n",
        "    .join(\n",
        "        data_frames[\"title_basics\"],\n",
        "        data_frames[\"title_akas\"].titleId == data_frames[\"title_basics\"].tconst\n",
        "    )\n",
        "    .groupBy(\"titleId\", \"region\")\n",
        "    .agg(F.countDistinct(\"language\").alias(\"distinctLanguages\"))\n",
        "    .filter(\"distinctLanguages > 1\")\n",
        "    .join(\n",
        "        data_frames[\"title_basics\"],\n",
        "        F.col(\"titleId\") == data_frames[\"title_basics\"].tconst\n",
        "    )\n",
        "    .groupBy(\"region\")\n",
        "    .agg(F.countDistinct(\"titleId\").alias(\"filmCount\"))\n",
        "    .orderBy(F.desc(\"filmCount\"))\n",
        ")\n",
        "\n",
        "multi_language_films.limit(20).show()\n",
        "total_records = multi_language_films.count()\n",
        "\n",
        "print(f\"Total records: {total_records}\")"
      ]
    },
    {
      "cell_type": "markdown",
      "metadata": {
        "id": "awTiM3oCBNF8"
      },
      "source": [
        "# Question 4"
      ]
    },
    {
      "cell_type": "markdown",
      "metadata": {
        "id": "nxLtv674C2jQ"
      },
      "source": [
        "> For TV series that lasted at least 5 seasons, how did ratings trend throughout their run?"
      ]
    },
    {
      "cell_type": "code",
      "execution_count": 6,
      "metadata": {
        "colab": {
          "base_uri": "https://localhost:8080/"
        },
        "id": "-mlwITV1BQR-",
        "outputId": "3fb7dc1d-abbb-46ec-bc7d-1df7755686b5"
      },
      "outputs": [
        {
          "name": "stdout",
          "output_type": "stream",
          "text": [
            "+------------+------------+------------------+\n",
            "|primaryTitle|seasonNumber|avgRating         |\n",
            "+------------+------------+------------------+\n",
            "|#LikeMe     |1           |8.161538637601412 |\n",
            "|#LikeMe     |2           |8.092307567596436 |\n",
            "|#LikeMe     |3           |7.923076959756704 |\n",
            "|#LikeMe     |4           |8.353846256549541 |\n",
            "|#LikeMe     |5           |5.900000095367432 |\n",
            "|'Allo 'Allo!|1           |8.074999988079071 |\n",
            "|'Allo 'Allo!|2           |8.157142911638532 |\n",
            "|'Allo 'Allo!|3           |8.200000127156576 |\n",
            "|'Allo 'Allo!|4           |7.9666666984558105|\n",
            "|'Allo 'Allo!|5           |7.915384677740244 |\n",
            "|'Allo 'Allo!|6           |7.8125            |\n",
            "|'Allo 'Allo!|7           |7.790000009536743 |\n",
            "|'Allo 'Allo!|8           |7.699999988079071 |\n",
            "|'Allo 'Allo!|9           |7.766666650772095 |\n",
            "|07 zglos sie|1           |7.524999976158142 |\n",
            "|07 zglos sie|2           |7.480000019073486 |\n",
            "|07 zglos sie|3           |7.759999942779541 |\n",
            "|07 zglos sie|4           |7.549999952316284 |\n",
            "|07 zglos sie|5           |7.3666666348775225|\n",
            "|100 höjdare |2           |6.709999990463257 |\n",
            "+------------+------------+------------------+\n",
            "\n",
            "Total records: 23855\n",
            "Amount of unique TV shows with more than 5 seasons: 2720\n"
          ]
        }
      ],
      "source": [
        "tv_series_5_seasons = data_frames[\"title_episode\"] \\\n",
        "    .join(data_frames[\"title_ratings\"], data_frames[\"title_episode\"].tconst == data_frames[\"title_ratings\"].tconst) \\\n",
        "    .groupBy(\"parentTconst\") \\\n",
        "    .agg(F.countDistinct(\"seasonNumber\").alias(\"seasons\")) \\\n",
        "    .filter(\"seasons >= 5\")\n",
        "\n",
        "tv_ratings_trend = data_frames[\"title_episode\"] \\\n",
        "    .join(data_frames[\"title_ratings\"], data_frames[\"title_episode\"].tconst == data_frames[\"title_ratings\"].tconst) \\\n",
        "    .filter(data_frames[\"title_episode\"].parentTconst.isin([row.parentTconst for row in tv_series_5_seasons.collect()])) \\\n",
        "    .join(data_frames[\"title_basics\"], data_frames[\"title_episode\"].parentTconst == data_frames[\"title_basics\"].tconst) \\\n",
        "    .filter(F.col(\"primaryTitle\").isNotNull()) \\\n",
        "    .filter(F.col(\"seasonNumber\").isNotNull()) \\\n",
        "    .filter(F.col(\"averageRating\").isNotNull()) \\\n",
        "    .groupBy(\"primaryTitle\", \"seasonNumber\") \\\n",
        "    .agg(F.avg(\"averageRating\").alias(\"avgRating\")) \\\n",
        "    .orderBy(\"primaryTitle\", \"seasonNumber\")\n",
        "\n",
        "tv_ratings_trend.limit(20).show(truncate=False)\n",
        "\n",
        "total_records = tv_ratings_trend.count()\n",
        "print(f\"Total records: {total_records}\")\n",
        "\n",
        "unique_series_count = tv_series_5_seasons.count()\n",
        "print(f\"Amount of unique TV shows with more than 5 seasons: {unique_series_count}\")"
      ]
    },
    {
      "cell_type": "markdown",
      "metadata": {
        "id": "N44TaIJgBQYG"
      },
      "source": [
        "# Question 5"
      ]
    },
    {
      "cell_type": "markdown",
      "metadata": {
        "id": "Ih1HfuZmDCTC"
      },
      "source": [
        "> Which genres have the most balanced gender representation in leading roles?"
      ]
    },
    {
      "cell_type": "code",
      "execution_count": 7,
      "metadata": {
        "colab": {
          "base_uri": "https://localhost:8080/"
        },
        "id": "jioi8PgVBTvI",
        "outputId": "f11017b4-d058-4912-b182-2bd8f7123ed1"
      },
      "outputs": [
        {
          "name": "stdout",
          "output_type": "stream",
          "text": [
            "+----------+---------+------------+-------------+\n",
            "|     genre|numActors|numActresses|genderBalance|\n",
            "+----------+---------+------------+-------------+\n",
            "| Film-Noir|      651|         212|          439|\n",
            "|      News|    26715|       19319|         7396|\n",
            "| Game-Show|    19468|       10535|         8933|\n",
            "|   Musical|    34095|       23300|        10795|\n",
            "|       War|    20737|        6575|        14162|\n",
            "| Biography|    35722|       15651|        20071|\n",
            "|   Western|    24545|        2905|        21640|\n",
            "|        \\N|   121574|       99437|        22137|\n",
            "| Talk-Show|    46662|       22410|        24252|\n",
            "|     Sport|    41247|       11271|        29976|\n",
            "|     Music|    67734|       37721|        30013|\n",
            "|Reality-TV|    64427|       32568|        31859|\n",
            "|  Thriller|    99936|       67058|        32878|\n",
            "|   History|    61157|       28165|        32992|\n",
            "|    Horror|   100419|       66913|        33506|\n",
            "|    Sci-Fi|    64893|       28923|        35970|\n",
            "|   Mystery|   112821|       70575|        42246|\n",
            "|   Fantasy|   120434|       77628|        42806|\n",
            "|     Drama|  1471636|     1424818|        46818|\n",
            "| Animation|   228067|      152683|        75384|\n",
            "+----------+---------+------------+-------------+\n",
            "\n",
            "Total records: 20\n"
          ]
        }
      ],
      "source": [
        "window_spec = Window.orderBy(F.col(\"genderBalance\").asc())\n",
        "\n",
        "gender_balance_genre = data_frames[\"title_principals\"] \\\n",
        "    .join(data_frames[\"title_basics\"], \"tconst\") \\\n",
        "    .filter(F.col(\"ordering\") == 1) \\\n",
        "    .filter(F.col(\"category\").isin(\"actor\", \"actress\")) \\\n",
        "    .withColumn(\"genre\", F.explode(F.split(F.col(\"genres\"), \",\"))) \\\n",
        "    .withColumn(\"genre\", F.trim(F.col(\"genre\"))) \\\n",
        "    .filter(F.col(\"genre\") != \"\") \\\n",
        "    .groupBy(\"genre\") \\\n",
        "    .agg(\n",
        "        F.sum(F.when(F.col(\"category\") == \"actor\", 1).otherwise(0)).alias(\"numActors\"),\n",
        "        F.sum(F.when(F.col(\"category\") == \"actress\", 1).otherwise(0)).alias(\"numActresses\")\n",
        "    ) \\\n",
        "    .withColumn(\"genderBalance\", F.abs(F.col(\"numActors\") - F.col(\"numActresses\")))\n",
        "\n",
        "ranked_gender_balance_genre = gender_balance_genre.withColumn(\"rank\", F.row_number().over(window_spec))\n",
        "\n",
        "top_20_gender_balance_genre = ranked_gender_balance_genre.filter(F.col(\"rank\") <= 20).drop(\"rank\")\n",
        "top_20_gender_balance_genre.show()\n",
        "\n",
        "total_records = top_20_gender_balance_genre.count()\n",
        "print(f\"Total records: {total_records}\")"
      ]
    },
    {
      "cell_type": "markdown",
      "metadata": {
        "id": "tNew0eViBT81"
      },
      "source": [
        "# Question 6"
      ]
    },
    {
      "cell_type": "markdown",
      "metadata": {
        "id": "XMbE7uVsDPbL"
      },
      "source": [
        "> What is the correlation between a movie's runtime and its IMDb rating across different genres?"
      ]
    },
    {
      "cell_type": "code",
      "execution_count": 8,
      "metadata": {
        "colab": {
          "base_uri": "https://localhost:8080/"
        },
        "id": "g19rKmWABVks",
        "outputId": "f21c52ef-3262-4229-f24c-20a98a599ebc"
      },
      "outputs": [
        {
          "name": "stdout",
          "output_type": "stream",
          "text": [
            "+-----------+--------------------+\n",
            "|      genre|         correlation|\n",
            "+-----------+--------------------+\n",
            "|  Film-Noir| 0.49792428224707524|\n",
            "|      Adult| 0.18126187018895804|\n",
            "|      Short| 0.08786138465682988|\n",
            "|      Sport|  0.0685325456673089|\n",
            "|      Music| 0.05196345317888905|\n",
            "|        War|0.048513242386614225|\n",
            "|    Musical| 0.02523974723010198|\n",
            "|Documentary|0.011689578979170062|\n",
            "|         \\N|0.009696633072796309|\n",
            "|  Animation|0.006909303596712093|\n",
            "|     Comedy|2.702744954132916...|\n",
            "| Reality-TV|-0.03589961809539111|\n",
            "|    History|-0.07364957043513691|\n",
            "|  Biography|-0.08196676267851066|\n",
            "|   Thriller|-0.08664473665950595|\n",
            "|  Talk-Show|-0.09157749468273618|\n",
            "|  Adventure| -0.0946177477323889|\n",
            "|       News|-0.13014709781339057|\n",
            "|     Family| -0.1387504520684432|\n",
            "|  Game-Show|-0.15363750078833976|\n",
            "+-----------+--------------------+\n",
            "\n",
            "Total records: 29\n"
          ]
        }
      ],
      "source": [
        "runtime_rating_correlation = data_frames[\"title_basics\"] \\\n",
        "    .join(data_frames[\"title_ratings\"], data_frames[\"title_basics\"].tconst == data_frames[\"title_ratings\"].tconst) \\\n",
        "    .withColumn(\"genre\", F.split(data_frames[\"title_basics\"].genres, \",\")[0]) \\\n",
        "    .filter(F.col(\"runtimeMinutes\").isNotNull()) \\\n",
        "    .filter(F.col(\"averageRating\").isNotNull()) \\\n",
        "    .filter(F.col(\"genre\").isNotNull()) \\\n",
        "    .groupBy(\"genre\") \\\n",
        "    .agg(F.corr(\"runtimeMinutes\", \"averageRating\").alias(\"correlation\")) \\\n",
        "    .orderBy(F.col(\"correlation\"), ascending=False)\n",
        "\n",
        "runtime_rating_correlation.limit(20).show()\n",
        "\n",
        "total_records = runtime_rating_correlation.count()\n",
        "print(f\"Total records: {total_records}\")"
      ]
    },
    {
      "cell_type": "markdown",
      "metadata": {
        "id": "Tk-G3EkkBYpU"
      },
      "source": [
        "# Save"
      ]
    },
    {
      "cell_type": "code",
      "execution_count": 9,
      "metadata": {
        "id": "17v8p-XMBakZ"
      },
      "outputs": [],
      "source": [
        "actor_director_collab.write.option(\"header\", \"true\").csv(\"data/results/actor_director_collab.csv\")\n",
        "runtime_by_decade_genre.write.option(\"header\", \"true\").csv(\"data/results/runtime_by_decade_genre.csv\")\n",
        "multi_language_films.write.option(\"header\", \"true\").csv(\"data/results/multi_language_films.csv\")\n",
        "tv_ratings_trend.write.option(\"header\", \"true\").csv(\"data/results/tv_ratings_trend.csv\")\n",
        "gender_balance_genre.write.option(\"header\", \"true\").csv(\"data/results/gender_balance_genre.csv\")\n",
        "runtime_rating_correlation.write.option(\"header\", \"true\").csv(\"data/results/runtime_rating_correlation.csv\")"
      ]
    }
  ],
  "metadata": {
    "colab": {
      "provenance": [],
      "toc_visible": true
    },
    "kernelspec": {
      "display_name": ".venv",
      "language": "python",
      "name": "python3"
    },
    "language_info": {
      "name": "python",
      "version": "3.12.0"
    }
  },
  "nbformat": 4,
  "nbformat_minor": 0
}
