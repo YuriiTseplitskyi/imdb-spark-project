{
  "cells": [
    {
      "cell_type": "markdown",
      "metadata": {},
      "source": [
        "# Imports"
      ]
    },
    {
      "cell_type": "code",
      "execution_count": null,
      "metadata": {},
      "outputs": [],
      "source": [
        "from pyspark.sql import functions as F\n",
        "from pyspark.sql.window import Window\n",
        "from schemas import data_frames"
      ]
    },
    {
      "cell_type": "markdown",
      "metadata": {},
      "source": [
        "# Question 1\n",
        "> All Ukrainian movies released after 1990 with an IMDb rating above 5.0"
      ]
    },
    {
      "cell_type": "code",
      "execution_count": null,
      "metadata": {
        "colab": {
          "base_uri": "https://localhost:8080/"
        },
        "id": "hJbdtqo4F0u-",
        "outputId": "45db011c-12e9-4b9d-9794-18459c11a7f1"
      },
      "outputs": [
        {
          "name": "stdout",
          "output_type": "stream",
          "text": [
            "+--------------------+---------+-------------+--------+\n",
            "|        primaryTitle|startYear|averageRating|language|\n",
            "+--------------------+---------+-------------+--------+\n",
            "|     The Glassworker|     2024|          7.4|      uk|\n",
            "|            I, Robot|     2019|          6.3|      uk|\n",
            "|Yobi, the Five Ta...|     2007|          6.7|      uk|\n",
            "|   War of the Worlds|     2005|          6.5|      uk|\n",
            "| With Fire and Sword|     1999|          7.0|      uk|\n",
            "|       The Lion King|     1994|          8.5|      uk|\n",
            "|     Milenkiy ty moy|     1992|          6.2|      uk|\n",
            "|     Milenkiy ty moy|     1992|          6.2|      uk|\n",
            "|     Hopeless Wombat|     1991|          8.0|      uk|\n",
            "|        Myna Mazaylo|     1991|          7.0|      uk|\n",
            "|Chelovek v zelyon...|     1991|          5.7|      uk|\n",
            "|              Eneida|     1991|          8.0|      uk|\n",
            "|    Karpatske zoloto|     1991|          6.1|      uk|\n",
            "|Doraemon: Nobita'...|     1991|          7.3|      uk|\n",
            "|    Karpatske zoloto|     1991|          6.1|      uk|\n",
            "|      Fright-Muzzles|     1991|          7.1|      uk|\n",
            "|Chudo v krayu zab...|     1991|          6.7|      uk|\n",
            "|              Eneida|     1991|          8.0|      uk|\n",
            "|    Zaets v lyudyakh|     1991|          5.9|      uk|\n",
            "|      Fright-Muzzles|     1991|          7.1|      uk|\n",
            "+--------------------+---------+-------------+--------+\n",
            "only showing top 20 rows\n",
            "\n",
            "Загальна кількість записів у відповіді: 28\n"
          ]
        }
      ],
      "source": [
        "window_spec = Window.orderBy(F.col(\"startYear\").desc())\n",
        "ukrainian_movies = data_frames[\"title_akas\"] \\\n",
        "    .filter(\"language = 'uk'\") \\\n",
        "    .join(data_frames[\"title_basics\"], data_frames[\"title_akas\"].titleId == data_frames[\"title_basics\"].tconst) \\\n",
        "    .join(data_frames[\"title_ratings\"], data_frames[\"title_basics\"].tconst == data_frames[\"title_ratings\"].tconst) \\\n",
        "    .filter(\"startYear > 1990 AND averageRating > 5.0\") \\\n",
        "    .select(\"primaryTitle\", \"startYear\", \"averageRating\", \"language\")\n",
        "\n",
        "ordered_movies = ukrainian_movies.orderBy(F.col(\"startYear\").desc())\n",
        "ordered_movies.show()\n",
        "\n",
        "total_records = ordered_movies.count()\n",
        "print(f\"Загальна кількість записів у відповіді: {total_records}\")\n"
      ]
    },
    {
      "cell_type": "markdown",
      "metadata": {},
      "source": [
        "# Question 2\n",
        "> Top 20 directors with the highest average movie ratings for films with at least 1000 votes"
      ]
    },
    {
      "cell_type": "code",
      "execution_count": null,
      "metadata": {
        "colab": {
          "base_uri": "https://localhost:8080/"
        },
        "id": "BpHkNqUlGVIK",
        "outputId": "7dd3647f-9842-4e53-9cc9-9b2ada562a94"
      },
      "outputs": [
        {
          "name": "stdout",
          "output_type": "stream",
          "text": [
            "+--------------------+-----------------+\n",
            "|         primaryName|        avgRating|\n",
            "+--------------------+-----------------+\n",
            "|            Anh Phan|9.899999618530273|\n",
            "|Garnepudi Radha K...|9.800000190734863|\n",
            "|          Tyler Bell|9.800000190734863|\n",
            "|        Bahri Baykal|9.800000190734863|\n",
            "|    Tatsuya Ishihara|9.800000190734863|\n",
            "|     Serkan Ipekören|9.783333460489908|\n",
            "|       Cevdet Mercan|9.718181899099639|\n",
            "|   Vinod Kumar Singh|9.699999809265137|\n",
            "|    Slaheddine Essid|9.699999809265137|\n",
            "|      Masato Mitsuka|9.699999809265137|\n",
            "|      Gregory Prange|9.699999809265137|\n",
            "|     István Zorkóczy|9.699999809265137|\n",
            "|       Serdar Dönmez|9.699999809265137|\n",
            "|      George Mastras|9.699999809265137|\n",
            "|     Richard Jeffery|9.650000095367432|\n",
            "|    Chizuru Miyawaki|9.614285741533552|\n",
            "|           Joe Brumm|9.600000381469727|\n",
            "|    Yasuto Nishikata|9.600000381469727|\n",
            "|Konrad Tomaszkiewicz|9.600000381469727|\n",
            "|         Cansu Arica|9.600000381469727|\n",
            "+--------------------+-----------------+\n",
            "\n",
            "Загальна кількість записів у відповіді: 20\n"
          ]
        }
      ],
      "source": [
        "window_spec = Window.orderBy(F.desc(\"avgRating\"))\n",
        "directors_ratings = data_frames[\"title_crew\"] \\\n",
        "    .join(data_frames[\"title_ratings\"], data_frames[\"title_crew\"].tconst == data_frames[\"title_ratings\"].tconst) \\\n",
        "    .filter(\"numVotes >= 1000\") \\\n",
        "    .join(\n",
        "        data_frames[\"name_basics\"].alias(\"directors\"),\n",
        "        data_frames[\"title_crew\"].directors == F.col(\"directors.nconst\")\n",
        "    ) \\\n",
        "    .groupBy(\"directors.primaryName\") \\\n",
        "    .agg(F.avg(\"averageRating\").alias(\"avgRating\"))\n",
        "\n",
        "ranked_directors = directors_ratings.withColumn(\"rank\", F.row_number().over(window_spec))\n",
        "\n",
        "top_20_directors = ranked_directors.filter(F.col(\"rank\") <= 20).drop(\"rank\")\n",
        "\n",
        "top_20_directors.show()\n",
        "\n",
        "total_records = top_20_directors.count()\n",
        "print(f\"Загальна кількість записів у відповіді: {total_records}\")\n"
      ]
    },
    {
      "cell_type": "markdown",
      "metadata": {
        "id": "0Xjc4x02NXRl"
      },
      "source": [
        "# Question 3\n",
        "> TV series with the most consistent ratings across all episodes"
      ]
    },
    {
      "cell_type": "code",
      "execution_count": null,
      "metadata": {
        "colab": {
          "base_uri": "https://localhost:8080/"
        },
        "id": "kc4qeB6ZN3So",
        "outputId": "f23ed13f-dc6c-411f-d21a-786493e40f8a"
      },
      "outputs": [
        {
          "name": "stdout",
          "output_type": "stream",
          "text": [
            "+-------------------------------------+------------------+------------+\n",
            "|primaryTitle                         |rating_stddev     |num_episodes|\n",
            "+-------------------------------------+------------------+------------+\n",
            "|Here's Hollywood                     |4.280420430887691 |5           |\n",
            "|The Doctors                          |4.166190448976482 |8           |\n",
            "|Loose Women                          |3.7118729279488747|5           |\n",
            "|Question Time                        |3.7071550177120933|5           |\n",
            "|Dr. Sommerfeld - Neues vom Bülowbogen|3.7064358803258775|6           |\n",
            "|The Real                             |3.663624388442638 |8           |\n",
            "|This Morning                         |3.620082855843896 |5           |\n",
            "|Come Dine with Me                    |3.559026160304422 |10          |\n",
            "|Movie Magic                          |3.498571262298427 |5           |\n",
            "|Tavis Smiley                         |3.4981343714789395|9           |\n",
            "|Larry King Now                       |3.462369150932518 |5           |\n",
            "|The Tony Danza Show                  |3.371794730271908 |10          |\n",
            "|SexTV                                |3.2817509174332917|10          |\n",
            "|The David Frost Show                 |3.2352623866152808|13          |\n",
            "|Baba Ki Chowki                       |3.2265565298793475|6           |\n",
            "|HypaSpace                            |3.1762943263886303|14          |\n",
            "|The Merv Griffin Show                |3.176136470645167 |34          |\n",
            "|Last Call with Carson Daly           |3.173117807194947 |17          |\n",
            "|Inside Edition                       |3.1317726151405116|6           |\n",
            "|A Current Affair                     |3.1223463816783097|7           |\n",
            "+-------------------------------------+------------------+------------+\n",
            "\n",
            "Загальна кількість записів у відповіді: 25714\n"
          ]
        }
      ],
      "source": [
        "tv_series_ratings = data_frames[\"title_episode\"] \\\n",
        "    .join(data_frames[\"title_ratings\"], \"tconst\") \\\n",
        "    .join(\n",
        "        data_frames[\"title_basics\"],\n",
        "        data_frames[\"title_episode\"].parentTconst == data_frames[\"title_basics\"].tconst\n",
        "    ) \\\n",
        "    .groupBy(\"parentTconst\", \"primaryTitle\") \\\n",
        "    .agg(\n",
        "        F.stddev(\"averageRating\").alias(\"rating_stddev\"),\n",
        "        F.count(data_frames[\"title_episode\"].tconst).alias(\"num_episodes\")\n",
        "    ) \\\n",
        "    .filter(F.col(\"num_episodes\") >= 5) \\\n",
        "    .orderBy(F.desc(\"rating_stddev\")) \\\n",
        "    .select(\"primaryTitle\", \"rating_stddev\", \"num_episodes\")\n",
        "\n",
        "tv_series_ratings.limit(20).show(truncate=False)\n",
        "\n",
        "total_records = tv_series_ratings.count()\n",
        "\n",
        "print(f\"Загальна кількість записів у відповіді: {total_records}\")\n",
        "\n"
      ]
    },
    {
      "cell_type": "markdown",
      "metadata": {},
      "source": [
        "# Question 4\n",
        "> Top most popular genres by decade based on average rating and number of votes"
      ]
    },
    {
      "cell_type": "code",
      "execution_count": null,
      "metadata": {
        "colab": {
          "base_uri": "https://localhost:8080/"
        },
        "id": "D0Ccyo6SOZJY",
        "outputId": "c38203cf-0506-49d4-cdaa-797350027109"
      },
      "outputs": [
        {
          "name": "stdout",
          "output_type": "stream",
          "text": [
            "+------+---------+------------------+----------+\n",
            "|decade|    genre|         avgRating|totalVotes|\n",
            "+------+---------+------------------+----------+\n",
            "|  2010|   Action| 7.165545971000893| 210414789|\n",
            "|  2000|   Action|7.0290417243177465| 116083763|\n",
            "|  2010|    Drama|7.0493540098362475|  95420853|\n",
            "|  2010|   Comedy| 7.080939846052681|  93826909|\n",
            "|  2000|   Comedy| 6.894717393612873|  85694066|\n",
            "|  2020|   Action| 7.291785928923785|  81888897|\n",
            "|  2000|    Drama| 6.898112578915886|  60235951|\n",
            "|  2010|    Crime| 7.269374991395223|  52720751|\n",
            "|  2000|Adventure|7.0315394857283495|  48919270|\n",
            "|  1990|   Action|  6.76407315327134|  48798073|\n",
            "|  2010|Adventure| 7.180359728240258|  48500923|\n",
            "|  1990|   Comedy| 6.943198078509985|  44559235|\n",
            "|  2000|    Crime| 7.157674599078984|  39146299|\n",
            "|  2020|    Drama| 7.264382981095291|  37594778|\n",
            "|  1990|    Drama| 6.716693814177882|  34507288|\n",
            "|  2020|   Comedy| 7.083187245543777|  33743850|\n",
            "|  2010|Biography| 7.291644996932243|  33609145|\n",
            "|  1990|    Crime| 6.994071362338811|  27407771|\n",
            "|  1980|   Action|6.5012700613374195|  24977580|\n",
            "|  1980|   Comedy|   6.8030747341888|  20931518|\n",
            "+------+---------+------------------+----------+\n",
            "\n",
            "Загальна кількість записів у відповіді: 394\n"
          ]
        }
      ],
      "source": [
        "data_frames[\"title_basics\"] = data_frames[\"title_basics\"] \\\n",
        "    .withColumn(\"decade\", (F.col(\"startYear\") / 10).cast(\"int\") * 10)\n",
        "\n",
        "genre_by_decade = data_frames[\"title_basics\"] \\\n",
        "    .join(data_frames[\"title_ratings\"], data_frames[\"title_basics\"].tconst == data_frames[\"title_ratings\"].tconst) \\\n",
        "    .withColumn(\"genre\", F.split(data_frames[\"title_basics\"].genres, \",\")[0]) \\\n",
        "    .groupBy(\"decade\", \"genre\") \\\n",
        "    .agg(F.avg(\"averageRating\").alias(\"avgRating\"), F.sum(\"numVotes\").alias(\"totalVotes\")) \\\n",
        "    .orderBy(F.desc(\"totalVotes\"))\n",
        "\n",
        "genre_by_decade.limit(20).show()\n",
        "\n",
        "total_records = genre_by_decade.count()\n",
        "\n",
        "print(f\"Загальна кількість записів у відповіді: {total_records}\")\n"
      ]
    },
    {
      "cell_type": "markdown",
      "metadata": {},
      "source": [
        "# Question 5\n",
        "> Actors who have played the most diverse roles (appeared in the most different genres)"
      ]
    },
    {
      "cell_type": "code",
      "execution_count": null,
      "metadata": {
        "colab": {
          "base_uri": "https://localhost:8080/"
        },
        "id": "IgI81V97O3Hi",
        "outputId": "0b962cd8-b258-4872-8073-2f5abd9d8c56"
      },
      "outputs": [
        {
          "name": "stdout",
          "output_type": "stream",
          "text": [
            "+--------------------+-----------+\n",
            "|         primaryName|totalGenres|\n",
            "+--------------------+-----------+\n",
            "|          Bree Janes|          2|\n",
            "|       Antony Miller|          1|\n",
            "|          Aldo Duque|         41|\n",
            "|         H. Rosinski|          2|\n",
            "|         Kevin Kelly|          2|\n",
            "|       Karine Dufour|          5|\n",
            "|          Kamil Onte|          2|\n",
            "|Chatchawit Techar...|        424|\n",
            "|     Colin McInerney|          2|\n",
            "|        Jospeh Cerda|          1|\n",
            "|Narashingh Mohapatra|          1|\n",
            "|               Carly|          3|\n",
            "|       Mark Lawrence|         10|\n",
            "|       Fabian Prager|          5|\n",
            "|       Nevin Martell|          1|\n",
            "|    Francesca Cullen|          2|\n",
            "|       Armand Holmes|          4|\n",
            "|     Karl-Heinz Lotz|         25|\n",
            "|   Yvan Stefanovitch|          5|\n",
            "|           Adim Duke|          2|\n",
            "+--------------------+-----------+\n",
            "\n",
            "Загальна кількість записів у відповіді: 6638383\n"
          ]
        }
      ],
      "source": [
        "actor_genre_diversity = data_frames[\"title_principals\"] \\\n",
        "    .join(data_frames[\"title_basics\"], data_frames[\"title_principals\"].tconst == data_frames[\"title_basics\"].tconst) \\\n",
        "    .withColumn(\"genre\", F.split(data_frames[\"title_basics\"].genres, \",\")) \\\n",
        "    .select(\"nconst\", \"genre\") \\\n",
        "    .withColumn(\"genre_count\", F.size(\"genre\")) \\\n",
        "    .groupBy(\"nconst\") \\\n",
        "    .agg(F.sum(\"genre_count\").alias(\"totalGenres\")) \\\n",
        "    .orderBy(F.desc(\"totalGenres\"))\n",
        "\n",
        "actor_genre_diversity = actor_genre_diversity \\\n",
        "    .join(data_frames[\"name_basics\"], actor_genre_diversity.nconst == data_frames[\"name_basics\"].nconst) \\\n",
        "    .select(\"primaryName\", \"totalGenres\")\n",
        "\n",
        "actor_genre_diversity = actor_genre_diversity.repartition(4)\n",
        "\n",
        "actor_genre_diversity.limit(20).show()\n",
        "\n",
        "total_records = actor_genre_diversity.count()\n",
        "print(f\"Загальна кількість записів у відповіді: {total_records}\")\n"
      ]
    },
    {
      "cell_type": "markdown",
      "metadata": {
        "id": "GxvvaH0ieNmn"
      },
      "source": [
        "# Question 6\n",
        "> All movies that have different titles in at least 2 languages and have high ratings"
      ]
    },
    {
      "cell_type": "code",
      "execution_count": null,
      "metadata": {
        "colab": {
          "base_uri": "https://localhost:8080/"
        },
        "id": "IMJe2flnO-8S",
        "outputId": "d833a42a-f888-4405-f5a5-3908f835bd5d"
      },
      "outputs": [
        {
          "name": "stdout",
          "output_type": "stream",
          "text": [
            "+--------------------+-----------------+-----------------+\n",
            "|        primaryTitle|distinctLanguages|        avgRating|\n",
            "+--------------------+-----------------+-----------------+\n",
            "| Salaviinanpolttajat|                3|              8.5|\n",
            "|        Max virtuose|                3|7.699999809265137|\n",
            "|            Miraklet|                2|7.300000190734863|\n",
            "| Gertie the Dinosaur|                2|7.099999904632568|\n",
            "|             The Spy|                2|              7.5|\n",
            "|    Romeo and Juliet|                2|7.199999809265137|\n",
            "|      The Gray Ghost|                2|              8.0|\n",
            "| In Pursuit of Polly|                2|7.699999809265137|\n",
            "|     Broken Blossoms|                9|7.199999809265137|\n",
            "|   The Cinema Murder|                2|8.100000381469727|\n",
            "|       The Dark Star|                2|7.900000095367432|\n",
            "|    His Bridal Night|                2|7.599999904632568|\n",
            "|            Theodora|                2|7.400000095367432|\n",
            "|       The Two Girls|                3|7.300000190734863|\n",
            "|   Midsummer Madness|                2|7.400000095367432|\n",
            "|An Old Fashioned Boy|                2|7.300000190734863|\n",
            "|The Woman and the...|                2|7.599999904632568|\n",
            "|     The 'High Sign'|                3|7.599999904632568|\n",
            "|      The Idle Class|                7|7.199999809265137|\n",
            "|             The Kid|               14|8.199999809265137|\n",
            "+--------------------+-----------------+-----------------+\n",
            "\n",
            "Загальна кількість записів у відповіді: 155290\n"
          ]
        }
      ],
      "source": [
        "multi_language_movies = data_frames[\"title_akas\"] \\\n",
        "    .join(data_frames[\"title_ratings\"], data_frames[\"title_akas\"].titleId == data_frames[\"title_ratings\"].tconst) \\\n",
        "    .join(data_frames[\"title_basics\"], data_frames[\"title_akas\"].titleId == data_frames[\"title_basics\"].tconst) \\\n",
        "    .groupBy(\"titleId\", \"primaryTitle\") \\\n",
        "    .agg(\n",
        "        F.countDistinct(\"language\").alias(\"distinctLanguages\"),\n",
        "        F.avg(\"averageRating\").alias(\"avgRating\")\n",
        "    ) \\\n",
        "    .filter(\"distinctLanguages >= 2 AND avgRating > 7.0\") \\\n",
        "    .select(\"primaryTitle\", \"distinctLanguages\", \"avgRating\")\n",
        "multi_language_movies.limit(20).show()\n",
        "\n",
        "total_records = multi_language_movies.count()\n",
        "\n",
        "print(f\"Загальна кількість записів у відповіді: {total_records}\")"
      ]
    },
    {
      "cell_type": "markdown",
      "metadata": {},
      "source": [
        "# Save"
      ]
    },
    {
      "cell_type": "code",
      "execution_count": null,
      "metadata": {
        "id": "q380W-iZAymL"
      },
      "outputs": [],
      "source": [
        "ukrainian_movies.write.option(\"header\", \"true\").csv(\"data/results/ukrainian_movies.csv\")\n",
        "directors_ratings.write.option(\"header\", \"true\").csv(\"data/results/top_20_directors.csv\")\n",
        "tv_series_ratings.write.option(\"header\", \"true\").csv(\"data/results/tv_series_consistent_ratings.csv\")\n",
        "genre_by_decade.write.option(\"header\", \"true\").csv(\"data/results/popular_genres_by_decade.csv\")\n",
        "actor_genre_diversity.write.option(\"header\", \"true\").csv(\"data/results/actors_diverse_roles.csv\")\n",
        "multi_language_movies.write.option(\"header\", \"true\").csv(\"data/results/multi_language_movies.csv\")\n"
      ]
    }
  ],
  "metadata": {
    "colab": {
      "provenance": []
    },
    "kernelspec": {
      "display_name": "Python 3",
      "name": "python3"
    },
    "language_info": {
      "name": "python"
    }
  },
  "nbformat": 4,
  "nbformat_minor": 0
}
