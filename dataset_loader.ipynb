{
 "cells": [
  {
   "cell_type": "code",
   "execution_count": null,
   "id": "830ef65c-97af-4a39-812b-d8600b435153",
   "metadata": {},
   "outputs": [],
   "source": [
    "!wget -q \"https://datasets.imdbws.com/title.basics.tsv.gz\" -O data/imdb/title.basics.tsv.gz\n",
    "!wget -q \"https://datasets.imdbws.com/title.ratings.tsv.gz\" -O data/imdb/title.ratings.tsv.gz\n",
    "!wget -q \"https://datasets.imdbws.com/title.crew.tsv.gz\" -O data/imdb/title.crew.tsv.gz\n",
    "!wget -q \"https://datasets.imdbws.com/title.akas.tsv.gz\" -O data/imdb/title.akas.tsv.gz\n",
    "!wget -q \"https://datasets.imdbws.com/title.episode.tsv.gz\" -O data/imdb/title.episode.tsv.gz\n",
    "!wget -q \"https://datasets.imdbws.com/title.principals.tsv.gz\" -O data/imdb/title.principals.tsv.gz\n",
    "!wget -q \"https://datasets.imdbws.com/name.basics.tsv.gz\" -O data/imdb/name.basics.tsv.gz"
   ]
  }
 ],
 "metadata": {
  "kernelspec": {
   "display_name": "Python 3 (ipykernel)",
   "language": "python",
   "name": "python3"
  },
  "language_info": {
   "codemirror_mode": {
    "name": "ipython",
    "version": 3
   },
   "file_extension": ".py",
   "mimetype": "text/x-python",
   "name": "python",
   "nbconvert_exporter": "python",
   "pygments_lexer": "ipython3",
   "version": "3.11.6"
  }
 },
 "nbformat": 4,
 "nbformat_minor": 5
}
